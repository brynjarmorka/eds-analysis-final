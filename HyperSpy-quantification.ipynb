{
 "cells": [
  {
   "cell_type": "markdown",
   "metadata": {},
   "source": [
    "# Quantification in HyperSpy"
   ]
  },
  {
   "cell_type": "code",
   "execution_count": 1,
   "metadata": {},
   "outputs": [],
   "source": [
    "import hyperspy.api as hs"
   ]
  },
  {
   "cell_type": "markdown",
   "metadata": {},
   "source": [
    "## Quantification with linear background removal"
   ]
  },
  {
   "cell_type": "code",
   "execution_count": 2,
   "metadata": {},
   "outputs": [],
   "source": [
    "path=\"data/2022-09-06_EDS-SEM-APREO/\"\n",
    "file = \"GaAs_30kV.emsa\"\n",
    "s = hs.load(path+file, signal_type='EDS_TEM')\n",
    "s.add_elements(['As', 'Ga'])\n",
    "# s.plot(xray_lines=True)"
   ]
  },
  {
   "cell_type": "code",
   "execution_count": 3,
   "metadata": {},
   "outputs": [],
   "source": [
    "bw = s.estimate_background_windows(windows_width=2)\n",
    "iw =  s.estimate_integration_windows(windows_width=2)\n",
    "# s.plot(xray_lines=True, background_windows=bw, integration_windows=iw)"
   ]
  },
  {
   "cell_type": "code",
   "execution_count": 4,
   "metadata": {},
   "outputs": [
    {
     "name": "stdout",
     "output_type": "stream",
     "text": [
      "[########################################] | 100% Completed | 118.19 ms\n",
      "GaAs_30kV.emsa quantification\n",
      "As: 56.95 %, Ga: 43.05 %\n"
     ]
    }
   ],
   "source": [
    "s_intensities = s.get_lines_intensity(background_windows=bw, integration_windows=iw)\n",
    "k_factors = [4.191, 3.268] # As, Ga\n",
    "quant = s.quantification(s_intensities, 'CL', factors=k_factors)\n",
    "print(f'{file} quantification\\nAs: {quant[0].data[0]:.2f} %, Ga: {quant[1].data[0]:.2f} %')"
   ]
  },
  {
   "cell_type": "markdown",
   "metadata": {},
   "source": [
    "## Quantification with intensity from model fit"
   ]
  },
  {
   "cell_type": "code",
   "execution_count": 5,
   "metadata": {},
   "outputs": [
    {
     "data": {
      "text/plain": [
       "'m'"
      ]
     },
     "execution_count": 5,
     "metadata": {},
     "output_type": "execute_result"
    }
   ],
   "source": [
    "# model fit\n",
    "m = s.create_model(auto_background=False)\n",
    "m.add_polynomial_background(order=6)\n",
    "m.add_family_lines(['As_Ka', 'Ga_Ka'])\n",
    "\n",
    "m.fit()\n",
    "'m'\n",
    "# m.plot(True)"
   ]
  },
  {
   "cell_type": "code",
   "execution_count": 6,
   "metadata": {},
   "outputs": [
    {
     "name": "stdout",
     "output_type": "stream",
     "text": [
      "['As_Ka']\n",
      "['As_La']\n",
      "['Ga_Ka']\n",
      "['Ga_La']\n",
      "[########################################] | 100% Completed | 109.13 ms\n",
      "GaAs_30kV.emsa quantification with model fit\n",
      "As: 41.31 %, Ga: 58.69 %\n"
     ]
    }
   ],
   "source": [
    "m_intensities = m.get_lines_intensity()\n",
    "for bs in m_intensities:\n",
    "    print(bs.metadata.Sample.xray_lines)\n",
    "k_factors = [4.191, 3.268] # As, Ga\n",
    "m_intensities[0::2] # selects As Ka and Ga Ka\n",
    "quant = s.quantification(m_intensities[0::2], 'CL', factors=k_factors)\n",
    "print(f'{file} quantification with model fit')\n",
    "print(f'As: {quant[0].data[0]:.2f} %, Ga: {quant[1].data[0]:.2f} %')"
   ]
  },
  {
   "cell_type": "markdown",
   "metadata": {},
   "source": [
    "## Quantification with intensity from model fit, after calibration"
   ]
  },
  {
   "cell_type": "code",
   "execution_count": 7,
   "metadata": {},
   "outputs": [
    {
     "name": "stdout",
     "output_type": "stream",
     "text": [
      "['As_Ka']\n",
      "['As_La']\n",
      "['Ga_Ka']\n",
      "['Ga_La']\n",
      "[########################################] | 100% Completed | 106.70 ms\n",
      "GaAs_30kV.emsa quantification with model fit\n",
      "As: 41.34 %, Ga: 58.66 %\n"
     ]
    }
   ],
   "source": [
    "# quanitfication after calibration in HyperSpy\n",
    "\n",
    "m.calibrate_energy_axis(calibrate='scale')\n",
    "m.calibrate_energy_axis(calibrate='offset')\n",
    "\n",
    "m_intensities = m.get_lines_intensity()\n",
    "for bs in m_intensities:\n",
    "    print(bs.metadata.Sample.xray_lines)\n",
    "\n",
    "k_factors = [4.191, 3.268] # As, Ga\n",
    "m_intensities[0::2] # selects As Ka and Ga Ka\n",
    "quant = s.quantification(m_intensities[0::2], 'CL', factors=k_factors)\n",
    "print(f'{file} quantification with model fit')\n",
    "print(f'As: {quant[0].data[0]:.2f} %, Ga: {quant[1].data[0]:.2f} %')\n",
    "\n",
    "# m.plot(True)\n"
   ]
  }
 ],
 "metadata": {
  "kernelspec": {
   "display_name": "hspy",
   "language": "python",
   "name": "python3"
  },
  "language_info": {
   "codemirror_mode": {
    "name": "ipython",
    "version": 3
   },
   "file_extension": ".py",
   "mimetype": "text/x-python",
   "name": "python",
   "nbconvert_exporter": "python",
   "pygments_lexer": "ipython3",
   "version": "3.8.13"
  },
  "orig_nbformat": 4,
  "vscode": {
   "interpreter": {
    "hash": "eedee208f6f0fe67ac5ec53646d8853bbb152098f521b748accd5958a126e1a5"
   }
  }
 },
 "nbformat": 4,
 "nbformat_minor": 2
}
